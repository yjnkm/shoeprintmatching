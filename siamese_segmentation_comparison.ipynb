{
 "cells": [
  {
   "cell_type": "code",
   "execution_count": null,
   "metadata": {
    "ExecuteTime": {
     "end_time": "2022-12-12T11:36:28.896934Z",
     "start_time": "2022-12-12T11:36:24.924864Z"
    }
   },
   "outputs": [],
   "source": [
    "import pickle\n",
    "import numpy as np \n",
    "import pandas as pd\n",
    "import glob\n",
    "import matplotlib.pyplot as plt\n",
    "import seaborn as sns\n",
    "\n",
    "import cv2\n",
    "import sys\n",
    "import os\n",
    "import random\n",
    "\n",
    "import tensorflow as tf\n",
    "#tf.config.run_functions_eagerly(True)\n",
    "from sklearn.model_selection import train_test_split\n",
    "from tensorflow.keras.layers import Input, Lambda, Dense, Flatten, Concatenate, Multiply\n",
    "from tensorflow.keras.models import Model\n",
    "from tensorflow.keras.applications.vgg19 import VGG19\n",
    "from tensorflow.keras.applications.vgg16 import VGG16\n",
    "from tensorflow.keras.preprocessing import image\n",
    "from tensorflow.keras.preprocessing.image import ImageDataGenerator\n",
    "from tensorflow.keras.models import Sequential\n",
    "from tensorflow.keras.layers import GlobalAveragePooling2D\n",
    "import tensorflow.keras.backend as K\n",
    "from tensorflow.keras.callbacks import EarlyStopping\n",
    "from tensorflow.keras.callbacks import ModelCheckpoint\n",
    "\n",
    "from tensorflow.keras.utils import plot_model\n",
    "import pydot \n",
    "import graphviz\n",
    "\n",
    "from tensorflow.keras.optimizers import RMSprop\n",
    "from tensorflow.keras.optimizers import SGD\n",
    "from tensorflow.keras.optimizers import Adam\n",
    "\n",
    "from sklearn.metrics import roc_auc_score\n",
    "from sklearn.metrics import roc_curve\n",
    "\n",
    "%config Completer.use_jedi = False"
   ]
  },
  {
   "cell_type": "code",
   "execution_count": null,
   "metadata": {
    "ExecuteTime": {
     "end_time": "2022-12-12T11:36:28.902027Z",
     "start_time": "2022-12-12T11:36:28.899435Z"
    }
   },
   "outputs": [],
   "source": [
    "#def seed_everything(seed: int = 42):\n",
    "#    random.seed(seed)\n",
    "#    np.random.seed(seed)\n",
    "#    os.environ[\"PYTHONHASHSEED\"] = str(seed)\n",
    "#    tf.random.set_seed(seed)"
   ]
  },
  {
   "cell_type": "code",
   "execution_count": null,
   "metadata": {
    "ExecuteTime": {
     "end_time": "2022-12-12T11:36:28.906756Z",
     "start_time": "2022-12-12T11:36:28.904266Z"
    }
   },
   "outputs": [],
   "source": [
    "#seed_everything(123)"
   ]
  },
  {
   "cell_type": "markdown",
   "metadata": {},
   "source": [
    "## Data"
   ]
  },
  {
   "cell_type": "code",
   "execution_count": null,
   "metadata": {
    "ExecuteTime": {
     "end_time": "2022-12-12T11:36:29.161828Z",
     "start_time": "2022-12-12T11:36:28.910360Z"
    }
   },
   "outputs": [],
   "source": [
    "with open('data_mat.pickle', 'rb') as data:\n",
    "    data_mat = pickle.load(data)\n",
    "with open('data_mat_seged.pickle', 'rb') as data:\n",
    "    data_mat_seged = pickle.load(data)\n",
    "with open('mask_mat.pickle', 'rb') as data:\n",
    "    mask_mat = pickle.load(data)    \n",
    "with open('labels_mat.pickle', 'rb') as data:\n",
    "    labels_mat = pickle.load(data)    "
   ]
  },
  {
   "cell_type": "code",
   "execution_count": null,
   "metadata": {
    "ExecuteTime": {
     "end_time": "2022-12-12T11:36:29.739696Z",
     "start_time": "2022-12-12T11:36:29.164377Z"
    }
   },
   "outputs": [],
   "source": [
    "with open('pairs_mat.pickle', 'rb') as data:\n",
    "    pairs_mat = pickle.load(data)  \n",
    "with open('pairs_mat2.pickle', 'rb') as data:\n",
    "    pairs_mat2 = pickle.load(data)  "
   ]
  },
  {
   "cell_type": "code",
   "execution_count": null,
   "metadata": {
    "ExecuteTime": {
     "end_time": "2022-12-12T11:36:29.746836Z",
     "start_time": "2022-12-12T11:36:29.741760Z"
    }
   },
   "outputs": [],
   "source": [
    "index1 = random.sample(range(0, 1328), 1062)\n",
    "index2 = list(set(range(0, 1328)) - set(index1))"
   ]
  },
  {
   "cell_type": "code",
   "execution_count": null,
   "metadata": {
    "ExecuteTime": {
     "end_time": "2022-12-12T11:36:30.122502Z",
     "start_time": "2022-12-12T11:36:29.748832Z"
    }
   },
   "outputs": [],
   "source": [
    "pairs_mat2_3c = []\n",
    "for i in range(0, len(pairs_mat2)):\n",
    "    pairs_mat2_3c.append(cv2.cvtColor(pairs_mat2[i][0], cv2.COLOR_GRAY2RGB))"
   ]
  },
  {
   "cell_type": "code",
   "execution_count": null,
   "metadata": {
    "ExecuteTime": {
     "end_time": "2022-12-12T11:36:30.531449Z",
     "start_time": "2022-12-12T11:36:30.126395Z"
    }
   },
   "outputs": [],
   "source": [
    "pairs_mat2_3c = np.array(pairs_mat2_3c)"
   ]
  },
  {
   "cell_type": "code",
   "execution_count": null,
   "metadata": {
    "ExecuteTime": {
     "end_time": "2022-12-12T11:36:31.142648Z",
     "start_time": "2022-12-12T11:36:30.533821Z"
    }
   },
   "outputs": [],
   "source": [
    "pairs_mat2_2 = []\n",
    "\n",
    "for i in range(0, len(pairs_mat2_3c)):\n",
    "    pairs_mat2_2 += [[pairs_mat2_3c[i], np.array(pairs_mat2[i][1])/255]]"
   ]
  },
  {
   "cell_type": "code",
   "execution_count": null,
   "metadata": {
    "ExecuteTime": {
     "end_time": "2022-12-12T11:36:31.149775Z",
     "start_time": "2022-12-12T11:36:31.144442Z"
    }
   },
   "outputs": [],
   "source": [
    "x_train = []\n",
    "for i in index1:\n",
    "    x_train.append(pairs_mat[i])\n",
    "x_train2 = []\n",
    "for i in index1:\n",
    "    x_train2.append(pairs_mat2_2[i])\n",
    "y_train = []\n",
    "for i in index1:\n",
    "    y_train.append(labels_mat[i])\n",
    "\n",
    "x_test = []\n",
    "for i in index2:\n",
    "    x_test.append(pairs_mat[i])\n",
    "x_test2 = []\n",
    "for i in index2:\n",
    "    x_test2.append(pairs_mat2_2[i])\n",
    "y_test = []\n",
    "for i in index2:\n",
    "    y_test.append(labels_mat[i])"
   ]
  },
  {
   "cell_type": "code",
   "execution_count": null,
   "metadata": {
    "ExecuteTime": {
     "end_time": "2022-12-12T11:36:31.153361Z",
     "start_time": "2022-12-12T11:36:31.151337Z"
    }
   },
   "outputs": [],
   "source": [
    "#x_train, x_test, y_train, y_test = train_test_split(np.array(x_data)/255,np.array(y_data), test_size=0.2, random_state=123)"
   ]
  },
  {
   "cell_type": "code",
   "execution_count": null,
   "metadata": {
    "ExecuteTime": {
     "end_time": "2022-12-12T11:36:33.848714Z",
     "start_time": "2022-12-12T11:36:31.154707Z"
    }
   },
   "outputs": [],
   "source": [
    "x_train = np.array(x_train)/255\n",
    "x_train2 = np.array(x_train2)\n",
    "y_train = np.array(y_train)\n",
    "\n",
    "x_test = np.array(x_test)/255\n",
    "x_test2 = np.array(x_test2)\n",
    "y_test = np.array(y_test)"
   ]
  },
  {
   "cell_type": "code",
   "execution_count": null,
   "metadata": {
    "ExecuteTime": {
     "end_time": "2022-12-12T11:36:33.856173Z",
     "start_time": "2022-12-12T11:36:33.850991Z"
    }
   },
   "outputs": [],
   "source": [
    "print(x_train2[0][0].min())\n",
    "print(x_train2[0][0].max())"
   ]
  },
  {
   "cell_type": "code",
   "execution_count": null,
   "metadata": {
    "ExecuteTime": {
     "end_time": "2022-12-12T11:36:34.066557Z",
     "start_time": "2022-12-12T11:36:33.857909Z"
    }
   },
   "outputs": [],
   "source": [
    "f, ax = plt.subplots(1,2)\n",
    "ax[0].imshow(x_train[820][0])\n",
    "ax[1].imshow(x_train[820][1])\n",
    "plt.title(y_train[820])"
   ]
  },
  {
   "cell_type": "code",
   "execution_count": null,
   "metadata": {
    "ExecuteTime": {
     "end_time": "2022-12-12T11:36:34.071769Z",
     "start_time": "2022-12-12T11:36:34.068362Z"
    }
   },
   "outputs": [],
   "source": [
    "print(x_train.shape)\n",
    "print(x_test.shape)\n",
    "print(y_train.shape)\n",
    "print(y_test.shape)"
   ]
  },
  {
   "cell_type": "code",
   "execution_count": null,
   "metadata": {
    "ExecuteTime": {
     "end_time": "2022-12-12T11:36:34.077110Z",
     "start_time": "2022-12-12T11:36:34.073405Z"
    }
   },
   "outputs": [],
   "source": [
    "np.unique(y_train, return_counts=True)"
   ]
  },
  {
   "cell_type": "code",
   "execution_count": null,
   "metadata": {
    "ExecuteTime": {
     "end_time": "2022-12-12T11:36:35.190982Z",
     "start_time": "2022-12-12T11:36:34.078470Z"
    }
   },
   "outputs": [],
   "source": [
    "tr_t_a = []\n",
    "tr_b_a = []\n",
    "\n",
    "for i in range(0, len(x_train)):\n",
    "    tr_t_a.append(x_train[i][0][0:int(x_train[0][0].shape[0]/2)])\n",
    "    tr_b_a.append(x_train[i][0][int(x_train[0][0].shape[0]/2):x_train[0][0].shape[0]])\n",
    "    \n",
    "tr_t_b = []\n",
    "tr_b_b = []\n",
    "\n",
    "for i in range(0, len(x_train)):\n",
    "    tr_t_b.append(x_train[i][1][0:int(x_train[0][1].shape[0]/2)])\n",
    "    tr_b_b.append(x_train[i][1][int(x_train[0][1].shape[0]/2):x_train[0][1].shape[0]])\n",
    "    \n",
    "tr_t_a = np.array(tr_t_a)\n",
    "tr_b_a = np.array(tr_b_a)\n",
    "tr_t_b = np.array(tr_t_b)\n",
    "tr_b_b = np.array(tr_b_b)\n",
    "\n",
    "data_list = [tr_t_a,tr_b_a, tr_t_b,tr_b_b]"
   ]
  },
  {
   "cell_type": "code",
   "execution_count": null,
   "metadata": {
    "ExecuteTime": {
     "end_time": "2022-12-12T11:36:35.456668Z",
     "start_time": "2022-12-12T11:36:35.192788Z"
    }
   },
   "outputs": [],
   "source": [
    "ts_t_a = []\n",
    "ts_b_a = []\n",
    "\n",
    "for i in range(0, len(x_test)):\n",
    "    ts_t_a.append(x_test[i][0][0:int(x_test[0][0].shape[0]/2)])\n",
    "    ts_b_a.append(x_test[i][0][int(x_test[0][0].shape[0]/2):x_test[0][0].shape[0]])\n",
    "    \n",
    "ts_t_b = []\n",
    "ts_b_b = []\n",
    "\n",
    "for i in range(0, len(x_test)):\n",
    "    ts_t_b.append(x_test[i][1][0:int(x_test[0][1].shape[0]/2)])\n",
    "    ts_b_b.append(x_test[i][1][int(x_test[0][1].shape[0]/2):x_test[0][1].shape[0]])\n",
    "    \n",
    "ts_t_a = np.array(ts_t_a)\n",
    "ts_b_a = np.array(ts_b_a)\n",
    "ts_t_b = np.array(ts_t_b)\n",
    "ts_b_b = np.array(ts_b_b)"
   ]
  },
  {
   "cell_type": "code",
   "execution_count": null,
   "metadata": {},
   "outputs": [],
   "source": []
  },
  {
   "cell_type": "code",
   "execution_count": null,
   "metadata": {
    "ExecuteTime": {
     "end_time": "2022-12-12T11:36:36.774054Z",
     "start_time": "2022-12-12T11:36:35.458693Z"
    }
   },
   "outputs": [],
   "source": [
    "tr_t_a2 = []\n",
    "tr_b_a2 = []\n",
    "\n",
    "for i in range(0, len(x_train2)):\n",
    "    tr_t_a2.append(x_train2[i][0][0:int(x_train2[0][0].shape[0]/2)])\n",
    "    tr_b_a2.append(x_train2[i][0][int(x_train2[0][0].shape[0]/2):x_train2[0][0].shape[0]])\n",
    "    \n",
    "tr_t_b2 = []\n",
    "tr_b_b2 = []\n",
    "\n",
    "for i in range(0, len(x_train2)):\n",
    "    tr_t_b2.append(x_train2[i][1][0:int(x_train2[0][1].shape[0]/2)])\n",
    "    tr_b_b2.append(x_train2[i][1][int(x_train2[0][1].shape[0]/2):x_train2[0][1].shape[0]])\n",
    "    \n",
    "tr_t_a2 = np.array(tr_t_a2)\n",
    "tr_b_a2 = np.array(tr_b_a2)\n",
    "tr_t_b2 = np.array(tr_t_b2)\n",
    "tr_b_b2 = np.array(tr_b_b2)\n",
    "\n",
    "data_list2 = [tr_t_a2,tr_b_a2, tr_t_b2,tr_b_b2]"
   ]
  },
  {
   "cell_type": "code",
   "execution_count": null,
   "metadata": {
    "ExecuteTime": {
     "end_time": "2022-12-12T11:36:37.135340Z",
     "start_time": "2022-12-12T11:36:36.776252Z"
    }
   },
   "outputs": [],
   "source": [
    "ts_t_a2 = []\n",
    "ts_b_a2 = []\n",
    "\n",
    "for i in range(0, len(x_test2)):\n",
    "    ts_t_a2.append(x_test2[i][0][0:int(x_test2[0][0].shape[0]/2)])\n",
    "    ts_b_a2.append(x_test2[i][0][int(x_test2[0][0].shape[0]/2):x_test2[0][0].shape[0]])\n",
    "    \n",
    "ts_t_b2 = []\n",
    "ts_b_b2 = []\n",
    "\n",
    "for i in range(0, len(x_test2)):\n",
    "    ts_t_b2.append(x_test2[i][1][0:int(x_test2[0][1].shape[0]/2)])\n",
    "    ts_b_b2.append(x_test2[i][1][int(x_test2[0][1].shape[0]/2):x_test2[0][1].shape[0]])\n",
    "    \n",
    "ts_t_a2 = np.array(ts_t_a2)\n",
    "ts_b_a2 = np.array(ts_b_a2)\n",
    "ts_t_b2 = np.array(ts_t_b2)\n",
    "ts_b_b2 = np.array(ts_b_b2)"
   ]
  },
  {
   "cell_type": "markdown",
   "metadata": {},
   "source": [
    "## Function"
   ]
  },
  {
   "cell_type": "code",
   "execution_count": null,
   "metadata": {
    "ExecuteTime": {
     "end_time": "2022-12-12T11:36:37.141080Z",
     "start_time": "2022-12-12T11:36:37.137282Z"
    }
   },
   "outputs": [],
   "source": [
    "def w_2(img):\n",
    "        top, bottom = img\n",
    "\n",
    "        h,w = top.get_shape()[1:3]\n",
    "        g_t = tf.math.reduce_sum(top)/(h*w)\n",
    "        g_b = tf.math.reduce_sum(bottom)/(h*w)\n",
    "        w_t = g_t / tf.math.reduce_sum((g_t, g_b))\n",
    "        w_b = g_b / tf.math.reduce_sum((g_t, g_b))\n",
    "        return [w_t, w_b]          "
   ]
  },
  {
   "cell_type": "code",
   "execution_count": null,
   "metadata": {
    "ExecuteTime": {
     "end_time": "2022-12-12T11:36:37.145603Z",
     "start_time": "2022-12-12T11:36:37.142590Z"
    }
   },
   "outputs": [],
   "source": [
    "def euclidean_distance(vects):\n",
    "    x, y = vects\n",
    "    sum_square = tf.math.reduce_sum(tf.math.square(x - y), axis=1, keepdims=True)\n",
    "    return tf.math.sqrt(tf.math.maximum(sum_square, 1e-7))"
   ]
  },
  {
   "cell_type": "code",
   "execution_count": null,
   "metadata": {
    "ExecuteTime": {
     "end_time": "2022-12-12T11:36:37.151989Z",
     "start_time": "2022-12-12T11:36:37.149495Z"
    }
   },
   "outputs": [],
   "source": [
    "def mul_sca(x):\n",
    "    return tf.multiply(x[0],x[1])"
   ]
  },
  {
   "cell_type": "code",
   "execution_count": null,
   "metadata": {
    "ExecuteTime": {
     "end_time": "2022-12-12T11:36:37.166389Z",
     "start_time": "2022-12-12T11:36:37.157384Z"
    }
   },
   "outputs": [],
   "source": [
    "def plot_roc_curve(fper, tper, label):\n",
    "    plt.plot(fper, tper, color='blue', label = label)\n",
    "    plt.plot([0, 1], [0, 1], color='black', linestyle='--')\n",
    "    plt.xlabel('False Positive Rate')\n",
    "    plt.ylabel('True Positive Rate')\n",
    "    plt.legend(loc = 4)"
   ]
  },
  {
   "cell_type": "code",
   "execution_count": null,
   "metadata": {
    "ExecuteTime": {
     "end_time": "2022-12-12T11:36:37.175719Z",
     "start_time": "2022-12-12T11:36:37.167785Z"
    }
   },
   "outputs": [],
   "source": [
    "def visualize(pairs, labels, to_show=6, num_col=3, predictions=None, test=False):\n",
    "    \"\"\"Creates a plot of pairs and labels, and prediction if it's test dataset.\n",
    "\n",
    "    Arguments:\n",
    "        pairs: Numpy Array, of pairs to visualize, having shape\n",
    "               (Number of pairs, 2, 28, 28).\n",
    "        to_show: Int, number of examples to visualize (default is 6)\n",
    "                `to_show` must be an integral multiple of `num_col`.\n",
    "                 Otherwise it will be trimmed if it is greater than num_col,\n",
    "                 and incremented if if it is less then num_col.\n",
    "        num_col: Int, number of images in one row - (default is 3)\n",
    "                 For test and train respectively, it should not exceed 3 and 7.\n",
    "        predictions: Numpy Array of predictions with shape (to_show, 1) -\n",
    "                     (default is None)\n",
    "                     Must be passed when test=True.\n",
    "        test: Boolean telling whether the dataset being visualized is\n",
    "              train dataset or test dataset - (default False).\n",
    "\n",
    "    Returns:\n",
    "        None.\n",
    "    \"\"\"\n",
    "\n",
    "    # Define num_row\n",
    "    # If to_show % num_col != 0\n",
    "    #    trim to_show,\n",
    "    #       to trim to_show limit num_row to the point where\n",
    "    #       to_show % num_col == 0\n",
    "    #\n",
    "    # If to_show//num_col == 0\n",
    "    #    then it means num_col is greater then to_show\n",
    "    #    increment to_show\n",
    "    #       to increment to_show set num_row to 1\n",
    "    num_row = to_show // num_col if to_show // num_col != 0 else 1\n",
    "\n",
    "    # `to_show` must be an integral multiple of `num_col`\n",
    "    #  we found num_row and we have num_col\n",
    "    #  to increment or decrement to_show\n",
    "    #  to make it integral multiple of `num_col`\n",
    "    #  simply set it equal to num_row * num_col\n",
    "    to_show = num_row * num_col\n",
    "\n",
    "    # Plot the images\n",
    "    fig, axes = plt.subplots(num_row, num_col, figsize=(5, 5))\n",
    "    for i in range(to_show):\n",
    "\n",
    "        # If the number of rows is 1, the axes array is one-dimensional\n",
    "        if num_row == 1:\n",
    "            ax = axes[i % num_col]\n",
    "        else:\n",
    "            ax = axes[i // num_col, i % num_col]\n",
    "\n",
    "        ax.imshow(np.concatenate([pairs[i][0], pairs[i][1]], axis=1), cmap=\"gray\")\n",
    "        ax.set_axis_off()\n",
    "        if test:\n",
    "            ax.set_title(\"True: {} | Pred: {:.5f}\".format(labels[i], predictions[i][0]))\n",
    "        else:\n",
    "            ax.set_title(\"Label: {}\".format(labels[i]))\n",
    "    if test:\n",
    "        plt.tight_layout(rect=(0, 0, 1.9, 1.9), w_pad=0.0)\n",
    "    else:\n",
    "        plt.tight_layout(rect=(0, 0, 1.5, 1.5))\n",
    "    plt.show()"
   ]
  },
  {
   "cell_type": "markdown",
   "metadata": {},
   "source": [
    "## Model"
   ]
  },
  {
   "cell_type": "code",
   "execution_count": null,
   "metadata": {
    "ExecuteTime": {
     "end_time": "2022-12-12T11:36:37.180756Z",
     "start_time": "2022-12-12T11:36:37.177542Z"
    }
   },
   "outputs": [],
   "source": [
    "es = EarlyStopping(monitor='val_loss', mode='min', verbose=1, patience=10)\n",
    "mc = ModelCheckpoint('best_model.h5', monitor='val_loss', mode='min', save_best_only=True)"
   ]
  },
  {
   "cell_type": "markdown",
   "metadata": {},
   "source": [
    "### pretrained VGG19 "
   ]
  },
  {
   "cell_type": "markdown",
   "metadata": {},
   "source": [
    "#### for original image"
   ]
  },
  {
   "cell_type": "code",
   "execution_count": null,
   "metadata": {
    "ExecuteTime": {
     "end_time": "2022-12-12T11:36:37.747507Z",
     "start_time": "2022-12-12T11:36:37.183487Z"
    }
   },
   "outputs": [],
   "source": [
    "model_vgg = VGG19(weights='imagenet', include_top=False, input_shape=(128, 128, 3))"
   ]
  },
  {
   "cell_type": "code",
   "execution_count": null,
   "metadata": {
    "ExecuteTime": {
     "end_time": "2022-12-12T11:36:37.754001Z",
     "start_time": "2022-12-12T11:36:37.749937Z"
    }
   },
   "outputs": [],
   "source": [
    "model_vgg.trainable = False"
   ]
  },
  {
   "cell_type": "code",
   "execution_count": null,
   "metadata": {
    "ExecuteTime": {
     "end_time": "2022-12-12T11:36:37.860339Z",
     "start_time": "2022-12-12T11:36:37.757258Z"
    }
   },
   "outputs": [],
   "source": [
    "inputs = Input((128, 128, 3))\n",
    "x = model_vgg(inputs)\n",
    "flatten = Flatten()\n",
    "x = flatten(x)\n",
    "x = Dense(128, activation='relu', name = 'vgg_output')(x)"
   ]
  },
  {
   "cell_type": "code",
   "execution_count": null,
   "metadata": {
    "ExecuteTime": {
     "end_time": "2022-12-12T11:36:37.871020Z",
     "start_time": "2022-12-12T11:36:37.862555Z"
    }
   },
   "outputs": [],
   "source": [
    "model = Model(inputs = inputs, outputs=x)"
   ]
  },
  {
   "cell_type": "markdown",
   "metadata": {},
   "source": [
    "#### for segmentation image"
   ]
  },
  {
   "cell_type": "code",
   "execution_count": null,
   "metadata": {
    "ExecuteTime": {
     "end_time": "2022-12-12T11:36:38.321625Z",
     "start_time": "2022-12-12T11:36:37.874126Z"
    }
   },
   "outputs": [],
   "source": [
    "model_vgg_s = VGG19(weights='imagenet', include_top=False, input_shape=(128, 128, 3))\n",
    "model_vgg_s.trainable = False"
   ]
  },
  {
   "cell_type": "code",
   "execution_count": null,
   "metadata": {
    "ExecuteTime": {
     "end_time": "2022-12-12T11:36:38.391690Z",
     "start_time": "2022-12-12T11:36:38.323773Z"
    }
   },
   "outputs": [],
   "source": [
    "inputs = Input((128, 128, 3))\n",
    "x = model_vgg_s(inputs)\n",
    "flatten = Flatten()\n",
    "x = flatten(x)\n",
    "x = Dense(128, activation='relu', name = 'vgg_s_output')(x)"
   ]
  },
  {
   "cell_type": "code",
   "execution_count": null,
   "metadata": {
    "ExecuteTime": {
     "end_time": "2022-12-12T11:36:38.398942Z",
     "start_time": "2022-12-12T11:36:38.393583Z"
    }
   },
   "outputs": [],
   "source": [
    "model_s = Model(inputs = inputs, outputs=x)"
   ]
  },
  {
   "cell_type": "markdown",
   "metadata": {},
   "source": [
    "### siamese networks"
   ]
  },
  {
   "cell_type": "markdown",
   "metadata": {},
   "source": [
    "#### MP-CNN"
   ]
  },
  {
   "cell_type": "markdown",
   "metadata": {},
   "source": [
    "##### for original image"
   ]
  },
  {
   "cell_type": "code",
   "execution_count": null,
   "metadata": {
    "ExecuteTime": {
     "end_time": "2022-12-11T16:36:16.643859Z",
     "start_time": "2022-12-11T16:36:16.488506Z"
    },
    "scrolled": true
   },
   "outputs": [],
   "source": [
    "input_t_a = Input(shape=(128,128,3), name='top_input_a')\n",
    "vector_output_t_a = model(input_t_a)\n",
    "\n",
    "input_b_a = Input(shape=(128,128,3), name='bottom_input_a')\n",
    "vector_output_b_a = model(input_b_a)\n",
    "\n",
    "w_a = Lambda(w_2, name = 'weight_a')([input_t_a, input_b_a])\n",
    "\n",
    "weighted_vaector_t_a = Lambda(mul_sca, name = 'weighted_vaector_t_a')([vector_output_t_a, w_a[0]])\n",
    "weighted_vaector_b_a = Lambda(mul_sca, name = 'weighted_vaector_b_a')([vector_output_b_a, w_a[1]])\n",
    "\n",
    "output_a = Concatenate(name='concatenation_a')([weighted_vaector_t_a, weighted_vaector_b_a])  \n",
    "#output_a = Concatenate(name='concatenation_a')([vector_output_t_a*w_a[0], vector_output_b_a*w_a[1]])  \n",
    "\n",
    "model_a = Model([input_t_a, input_b_a], output_a)"
   ]
  },
  {
   "cell_type": "code",
   "execution_count": null,
   "metadata": {
    "ExecuteTime": {
     "end_time": "2022-12-11T16:36:16.835252Z",
     "start_time": "2022-12-11T16:36:16.647504Z"
    }
   },
   "outputs": [],
   "source": [
    "input_t_b = Input(shape=(128,128,3), name='top_input_b')\n",
    "vector_output_t_b = model(input_t_b)\n",
    "\n",
    "input_b_b = Input(shape=(128,128,3), name='bottom_input_b')\n",
    "vector_output_b_b = model(input_b_b)\n",
    "\n",
    "\n",
    "w_b = Lambda(w_2, name = 'weight_b')([input_t_b, input_b_b])\n",
    "\n",
    "weighted_vaector_t_b = Lambda(mul_sca, name = 'weighted_vaector_t_b')([vector_output_t_b, w_b[0]])\n",
    "weighted_vaector_b_b = Lambda(mul_sca, name = 'weighted_vaector_b_b')([vector_output_b_b, w_b[1]])\n",
    "\n",
    "output_b = Concatenate(name='concatenation_b')([weighted_vaector_t_b, weighted_vaector_b_b])  \n",
    "#output_b = Concatenate(name='concatenation_b')([vector_output_t_b*w_b[0], vector_output_b_b*w_b[1]])\n",
    "\n",
    "model_b = Model([input_t_b, input_b_b], output_b)"
   ]
  },
  {
   "cell_type": "code",
   "execution_count": null,
   "metadata": {
    "ExecuteTime": {
     "end_time": "2022-12-11T16:36:16.876369Z",
     "start_time": "2022-12-11T16:36:16.838626Z"
    }
   },
   "outputs": [],
   "source": [
    "x_a = model_a.output\n",
    "x_b = model_b.output\n",
    "\n",
    "distance_layer = Lambda(lambda x: euclidean_distance([x[0], x[1]]))\n",
    "distance = distance_layer([x_a, x_b])\n",
    "#x = Lambda(euclidean_distance, name='distance')([x_a, x_b])\n",
    "output = Dense(1, activation='sigmoid', name = 'output')(distance)\n",
    "\n",
    "model_final = Model([input_t_a, input_b_a, input_t_b, input_b_b], output)"
   ]
  },
  {
   "cell_type": "code",
   "execution_count": null,
   "metadata": {
    "ExecuteTime": {
     "end_time": "2022-12-11T17:07:38.819789Z",
     "start_time": "2022-12-11T17:07:38.791059Z"
    }
   },
   "outputs": [],
   "source": [
    "random.seed(1234)\n",
    "opt = Adam(learning_rate=0.01)\n",
    "model_final.compile(loss='binary_crossentropy', optimizer=opt, metrics = ['accuracy'])"
   ]
  },
  {
   "cell_type": "code",
   "execution_count": null,
   "metadata": {
    "ExecuteTime": {
     "end_time": "2022-12-11T17:09:32.007114Z",
     "start_time": "2022-12-11T17:08:02.012439Z"
    },
    "scrolled": true
   },
   "outputs": [],
   "source": [
    "history = model_final.fit(data_list, y_train, epochs=200, batch_size=32, \n",
    "                          validation_split=0.2, callbacks = [es, mc]) "
   ]
  },
  {
   "cell_type": "code",
   "execution_count": null,
   "metadata": {
    "ExecuteTime": {
     "end_time": "2022-12-09T08:44:38.464681Z",
     "start_time": "2022-12-09T08:44:38.342864Z"
    }
   },
   "outputs": [],
   "source": [
    "model_final.save_weights('mp_cnn_dl')"
   ]
  },
  {
   "cell_type": "markdown",
   "metadata": {},
   "source": [
    "##### for segmentation image"
   ]
  },
  {
   "cell_type": "code",
   "execution_count": null,
   "metadata": {
    "ExecuteTime": {
     "end_time": "2022-12-11T11:43:37.921376Z",
     "start_time": "2022-12-11T11:43:37.724933Z"
    }
   },
   "outputs": [],
   "source": [
    "input_t_a2 = Input(shape=(128,128,3), name='top_input_a2')\n",
    "vector_output_t_a2 = model_s(input_t_a2)\n",
    "\n",
    "input_b_a2 = Input(shape=(128,128,3), name='bottom_input_a2')\n",
    "vector_output_b_a2 = model_s(input_b_a2)\n",
    "\n",
    "w_a2 = Lambda(w_2, name = 'weight_a2')([input_t_a2, input_b_a2])\n",
    "\n",
    "weighted_vaector_t_a2 = Lambda(mul_sca, name = 'weighted_vaector_t_a2')([vector_output_t_a2, w_a2[0]])\n",
    "weighted_vaector_b_a2 = Lambda(mul_sca, name = 'weighted_vaector_b_a2')([vector_output_b_a2, w_a2[1]])\n",
    "\n",
    "output_a2 = Concatenate(name='concatenation_a2')([weighted_vaector_t_a2, weighted_vaector_b_a2])  \n",
    "#output_a = Concatenate(name='concatenation_a')([vector_output_t_a*w_a[0], vector_output_b_a*w_a[1]])  \n",
    "\n",
    "model_a2 = Model([input_t_a2, input_b_a2], output_a2)"
   ]
  },
  {
   "cell_type": "code",
   "execution_count": null,
   "metadata": {
    "ExecuteTime": {
     "end_time": "2022-12-11T11:44:38.677051Z",
     "start_time": "2022-12-11T11:44:38.482863Z"
    }
   },
   "outputs": [],
   "source": [
    "input_t_b2 = Input(shape=(128,128,3), name='top_input_b2')\n",
    "vector_output_t_b2 = model_s(input_t_b2)\n",
    "\n",
    "input_b_b2 = Input(shape=(128,128,3), name='bottom_input_b2')\n",
    "vector_output_b_b2 = model(input_b_b2)\n",
    "\n",
    "\n",
    "w_b2 = Lambda(w_2, name = 'weight_b2')([input_t_b2, input_b_b2])\n",
    "\n",
    "weighted_vaector_t_b2 = Lambda(mul_sca, name = 'weighted_vaector_t_b2')([vector_output_t_b2, w_b2[0]])\n",
    "weighted_vaector_b_b2 = Lambda(mul_sca, name = 'weighted_vaector_b_b2')([vector_output_b_b2, w_b2[1]])\n",
    "\n",
    "output_b2 = Concatenate(name='concatenation_b')([weighted_vaector_t_b2, weighted_vaector_b_b2])  \n",
    "#output_b = Concatenate(name='concatenation_b')([vector_output_t_b*w_b[0], vector_output_b_b*w_b[1]])\n",
    "\n",
    "model_b2 = Model([input_t_b2, input_b_b2], output_b2)"
   ]
  },
  {
   "cell_type": "code",
   "execution_count": null,
   "metadata": {
    "ExecuteTime": {
     "end_time": "2022-12-11T11:45:36.185150Z",
     "start_time": "2022-12-11T11:45:36.148014Z"
    }
   },
   "outputs": [],
   "source": [
    "x_a2 = model_a2.output\n",
    "x_b2 = model_b2.output\n",
    "\n",
    "distance_layer = Lambda(lambda x: euclidean_distance([x[0], x[1]]))\n",
    "distance2 = distance_layer([x_a2, x_b2])\n",
    "#x = Lambda(euclidean_distance, name='distance')([x_a, x_b])\n",
    "output2 = Dense(1, activation='sigmoid', name = 'output')(distance2)\n",
    "\n",
    "model_final_s = Model([input_t_a2, input_b_a2, input_t_b2, input_b_b2], output2)"
   ]
  },
  {
   "cell_type": "code",
   "execution_count": null,
   "metadata": {},
   "outputs": [],
   "source": [
    "model_final_s.compile(loss='binary_crossentropy', optimizer='RMSprop', metrics = ['accuracy'])"
   ]
  },
  {
   "cell_type": "code",
   "execution_count": null,
   "metadata": {},
   "outputs": [],
   "source": [
    "history_s = model_final_s.fit(data_list, y_train, epochs=200, batch_size=100) "
   ]
  },
  {
   "cell_type": "code",
   "execution_count": null,
   "metadata": {},
   "outputs": [],
   "source": [
    "model_final_s.save_weights('mp_cnn_s_dl')"
   ]
  },
  {
   "cell_type": "markdown",
   "metadata": {},
   "source": [
    "#### original siamese"
   ]
  },
  {
   "cell_type": "markdown",
   "metadata": {},
   "source": [
    "##### for original image"
   ]
  },
  {
   "cell_type": "code",
   "execution_count": null,
   "metadata": {
    "ExecuteTime": {
     "end_time": "2022-12-11T17:11:27.500227Z",
     "start_time": "2022-12-11T17:11:26.184819Z"
    }
   },
   "outputs": [],
   "source": [
    "x_train_1 = np.array(x_train[:, 0])\n",
    "x_train_2 = np.array(x_train[:, 1])"
   ]
  },
  {
   "cell_type": "code",
   "execution_count": null,
   "metadata": {
    "ExecuteTime": {
     "end_time": "2022-12-11T17:11:04.787894Z",
     "start_time": "2022-12-11T17:11:04.408651Z"
    }
   },
   "outputs": [],
   "source": [
    "model_vgg_o = VGG19(weights='imagenet', include_top=False, input_shape=(256, 128, 3))"
   ]
  },
  {
   "cell_type": "code",
   "execution_count": null,
   "metadata": {
    "ExecuteTime": {
     "end_time": "2022-12-11T17:11:10.604468Z",
     "start_time": "2022-12-11T17:11:10.600999Z"
    }
   },
   "outputs": [],
   "source": [
    "model_vgg_o.trainable = False"
   ]
  },
  {
   "cell_type": "code",
   "execution_count": null,
   "metadata": {
    "ExecuteTime": {
     "end_time": "2022-12-11T17:11:15.159442Z",
     "start_time": "2022-12-11T17:11:14.967399Z"
    }
   },
   "outputs": [],
   "source": [
    "inputs_o = Input((256, 128, 3))\n",
    "\n",
    "x_o = model_vgg_o(inputs_o)\n",
    "x_o = flatten(x_o)\n",
    "x_o = Dense(256, activation='relu', name = 'output')(x_o)\n",
    "embedding_network = Model(inputs_o, x_o)\n",
    "\n",
    "input_o_1 = Input((256, 128, 3))\n",
    "input_o_2 = Input((256, 128, 3))\n",
    "\n",
    "tower_1 = embedding_network(input_o_1)\n",
    "tower_2 = embedding_network(input_o_2)\n",
    "\n",
    "merge_layer = Lambda(euclidean_distance)([tower_1, tower_2])\n",
    "output_layer = Dense(1, activation=\"sigmoid\")(merge_layer)\n",
    "siamese = Model(inputs=[input_o_1, input_o_2], outputs=output_layer)"
   ]
  },
  {
   "cell_type": "code",
   "execution_count": null,
   "metadata": {
    "ExecuteTime": {
     "end_time": "2022-12-11T17:11:21.225220Z",
     "start_time": "2022-12-11T17:11:21.211345Z"
    }
   },
   "outputs": [],
   "source": [
    "random.seed(1234)\n",
    "\n",
    "siamese.compile(loss='binary_crossentropy', optimizer='RMSprop', metrics = ['accuracy'], )"
   ]
  },
  {
   "cell_type": "code",
   "execution_count": null,
   "metadata": {
    "ExecuteTime": {
     "start_time": "2022-12-11T17:11:31.995Z"
    },
    "scrolled": true
   },
   "outputs": [],
   "source": [
    "history_o = siamese.fit([x_train_1, x_train_2], y_train,epochs=200,batch_size=32, \n",
    "                          validation_split=0.2, callbacks = [es, mc]) "
   ]
  },
  {
   "cell_type": "code",
   "execution_count": null,
   "metadata": {
    "ExecuteTime": {
     "end_time": "2022-12-07T11:01:18.434942Z",
     "start_time": "2022-12-07T11:01:18.225926Z"
    }
   },
   "outputs": [],
   "source": [
    "siamese.save_weights('siamese_dl')"
   ]
  },
  {
   "cell_type": "markdown",
   "metadata": {},
   "source": [
    "##### for segmentation image"
   ]
  },
  {
   "cell_type": "code",
   "execution_count": null,
   "metadata": {
    "ExecuteTime": {
     "end_time": "2022-12-12T11:41:57.823613Z",
     "start_time": "2022-12-12T11:41:57.317764Z"
    }
   },
   "outputs": [],
   "source": [
    "model_vgg_o_s = VGG19(weights='imagenet', include_top=False, input_shape=(256, 128, 3))\n",
    "model_vgg_o_s.trainable = False"
   ]
  },
  {
   "cell_type": "code",
   "execution_count": null,
   "metadata": {
    "ExecuteTime": {
     "end_time": "2022-12-12T11:42:01.748241Z",
     "start_time": "2022-12-12T11:42:01.498991Z"
    }
   },
   "outputs": [],
   "source": [
    "inputs_o2 = Input((256, 128, 3))\n",
    "\n",
    "x_o2 = model_vgg_o_s(inputs_o2)\n",
    "x_o2 = flatten(x_o2)\n",
    "x_o2 = Dense(256, activation='relu', name = 'output')(x_o2)\n",
    "embedding_network2 = Model(inputs_o2, x_o2)\n",
    "\n",
    "input_o_1_2 = Input((256, 128, 3))\n",
    "input_o_2_2 = Input((256, 128, 3))\n",
    "\n",
    "tower_1_2 = embedding_network2(input_o_1_2)\n",
    "tower_2_2 = embedding_network2(input_o_2_2)\n",
    "\n",
    "merge_layer2 = Lambda(euclidean_distance)([tower_1_2, tower_2_2])\n",
    "output_layer2 = Dense(1, activation=\"sigmoid\")(merge_layer2)\n",
    "siamese_s = Model(inputs=[input_o_1_2, input_o_2_2], outputs=output_layer2)"
   ]
  },
  {
   "cell_type": "code",
   "execution_count": null,
   "metadata": {
    "ExecuteTime": {
     "end_time": "2022-12-12T11:42:08.800806Z",
     "start_time": "2022-12-12T11:42:07.086327Z"
    }
   },
   "outputs": [],
   "source": [
    "x_train_1_2 = np.array(x_train2[:, 0])\n",
    "x_train_2_2 = np.array(x_train2[:, 1])"
   ]
  },
  {
   "cell_type": "code",
   "execution_count": null,
   "metadata": {
    "ExecuteTime": {
     "end_time": "2022-12-12T11:42:13.834310Z",
     "start_time": "2022-12-12T11:42:13.799259Z"
    }
   },
   "outputs": [],
   "source": [
    "random.seed(1234)\n",
    "\n",
    "siamese_s.compile(loss='binary_crossentropy', optimizer='RMSprop', metrics = ['accuracy'],)"
   ]
  },
  {
   "cell_type": "code",
   "execution_count": null,
   "metadata": {
    "ExecuteTime": {
     "end_time": "2022-12-12T12:53:57.708427Z",
     "start_time": "2022-12-12T11:42:18.723132Z"
    },
    "scrolled": true
   },
   "outputs": [],
   "source": [
    "history_o_s = siamese_s.fit([x_train_1_2, x_train_2_2], y_train, epochs=200,batch_size=32, \n",
    "                          validation_split=0.2, callbacks = [es, mc]) "
   ]
  },
  {
   "cell_type": "code",
   "execution_count": null,
   "metadata": {
    "ExecuteTime": {
     "end_time": "2022-12-12T17:07:13.900447Z",
     "start_time": "2022-12-12T17:07:13.560595Z"
    }
   },
   "outputs": [],
   "source": [
    "siamese_s.save_weights('siamese_s_dl')"
   ]
  },
  {
   "cell_type": "code",
   "execution_count": null,
   "metadata": {
    "ExecuteTime": {
     "end_time": "2022-12-12T17:07:59.198288Z",
     "start_time": "2022-12-12T17:07:56.070087Z"
    }
   },
   "outputs": [],
   "source": [
    "siamese_s.save('siamese_s_dl_model')"
   ]
  },
  {
   "cell_type": "markdown",
   "metadata": {},
   "source": [
    "### result"
   ]
  },
  {
   "cell_type": "code",
   "execution_count": null,
   "metadata": {
    "ExecuteTime": {
     "end_time": "2022-12-11T16:28:40.697163Z",
     "start_time": "2022-12-11T16:28:21.374811Z"
    }
   },
   "outputs": [],
   "source": [
    "results = model_final.evaluate([ts_t_a,ts_b_a, ts_t_b,ts_b_b], y_test)\n",
    "y_pred_test = model_final.predict([ts_t_a,ts_b_a, ts_t_b,ts_b_b])\n",
    "print(\"test loss, test acc:\", results)"
   ]
  },
  {
   "cell_type": "code",
   "execution_count": null,
   "metadata": {},
   "outputs": [],
   "source": [
    "results_s = model_final_s.evaluate([ts_t_a2,ts_b_a2, ts_t_b2,ts_b_b2], y_test)\n",
    "y_pred_test_s = model_final_s.predict([ts_t_a2,ts_b_a2, ts_t_b2,ts_b_b2])\n",
    "print(\"test loss, test acc:\", results_s)"
   ]
  },
  {
   "cell_type": "code",
   "execution_count": null,
   "metadata": {
    "ExecuteTime": {
     "end_time": "2022-12-07T10:59:51.699732Z",
     "start_time": "2022-12-07T10:58:49.138197Z"
    }
   },
   "outputs": [],
   "source": [
    "x_test_1 = np.array(x_test[:, 0])\n",
    "x_test_2 = np.array(x_test[:, 1])\n",
    "\n",
    "results_o = siamese.evaluate([x_test_1, x_test_2], y_test)\n",
    "y_pred_test_o = siamese.predict([x_test_1, x_test_2])\n",
    "print(\"test loss, test acc:\", results_o)"
   ]
  },
  {
   "cell_type": "code",
   "execution_count": null,
   "metadata": {
    "ExecuteTime": {
     "end_time": "2022-12-12T12:58:22.141467Z",
     "start_time": "2022-12-12T12:58:00.810927Z"
    }
   },
   "outputs": [],
   "source": [
    "x_test_1_2 = np.array(x_test2[:, 0])\n",
    "x_test_2_2 = np.array(x_test2[:, 1])\n",
    "\n",
    "results_o_s = siamese_s.evaluate([x_test_1_2, x_test_2_2], y_test)\n",
    "y_pred_test_o_s = siamese_s.predict([x_test_1_2, x_test_2_2])\n",
    "print(\"test loss, test acc:\", results_o_s)"
   ]
  },
  {
   "cell_type": "code",
   "execution_count": null,
   "metadata": {
    "ExecuteTime": {
     "end_time": "2022-12-09T08:43:45.859791Z",
     "start_time": "2022-12-09T08:43:45.838336Z"
    }
   },
   "outputs": [],
   "source": [
    "test_auc = roc_auc_score(y_score=y_pred_test, y_true=y_test)\n",
    "test_auc_s = roc_auc_score(y_score=y_pred_test_s, y_true=y_test)\n",
    "test_auc_o = roc_auc_score(y_score=y_pred_test_o, y_true=y_test)\n",
    "test_auc_o_s = roc_auc_score(y_score=y_pred_test_o_s, y_true=y_test)\n",
    "\n",
    "print(round(test_auc,5))\n",
    "print(round(test_auc_s,5))\n",
    "print(round(test_auc_o,5))\n",
    "print(round(test_auc_o_s,5))"
   ]
  },
  {
   "cell_type": "code",
   "execution_count": null,
   "metadata": {
    "ExecuteTime": {
     "end_time": "2022-12-09T08:44:05.801196Z",
     "start_time": "2022-12-09T08:44:05.569683Z"
    }
   },
   "outputs": [],
   "source": [
    "fper, tper, thresholds = roc_curve(y_test, y_pred_test)\n",
    "fper_s, tper_s, thresholds = roc_curve(y_test, y_pred_test_s)\n",
    "fper_o, tper_o, thresholds = roc_curve(y_test, y_pred_test_o)\n",
    "fper_o_s, tper_o_s, thresholds = roc_curve(y_test, y_pred_test_o_s)"
   ]
  },
  {
   "cell_type": "code",
   "execution_count": null,
   "metadata": {},
   "outputs": [],
   "source": []
  },
  {
   "cell_type": "code",
   "execution_count": null,
   "metadata": {},
   "outputs": [],
   "source": [
    "plt.plot(fper, tper, label = round(test_auc,5))\n",
    "plt.plot(fper_s, tper_s, label = round(test_auc_s,5))\n",
    "plt.plot(fper_o, tper_o, label = round(test_auc_o,5))\n",
    "plt.plot(fper_o_s, tper_o_s, label = round(test_auc_o_s,5))\n",
    "\n",
    "plt.plot([0, 1], [0, 1], color='black', linestyle='--')\n",
    "plt.xlabel('False Positive Rate')\n",
    "plt.ylabel('True Positive Rate')\n",
    "plt.legend(loc = 4)"
   ]
  },
  {
   "cell_type": "code",
   "execution_count": null,
   "metadata": {},
   "outputs": [],
   "source": []
  },
  {
   "cell_type": "code",
   "execution_count": null,
   "metadata": {
    "ExecuteTime": {
     "end_time": "2022-12-08T10:18:45.520849Z",
     "start_time": "2022-12-08T10:18:45.512152Z"
    }
   },
   "outputs": [],
   "source": [
    "df_1 = pd.DataFrame(y_test, columns=['real'])\n",
    "df_2 = pd.DataFrame(y_pred_test.ravel(), columns=['pred'])"
   ]
  },
  {
   "cell_type": "code",
   "execution_count": null,
   "metadata": {
    "ExecuteTime": {
     "end_time": "2022-12-08T10:18:50.272492Z",
     "start_time": "2022-12-08T10:18:50.269385Z"
    }
   },
   "outputs": [],
   "source": [
    "df = pd.concat([df_1, df_2], axis=1)"
   ]
  },
  {
   "cell_type": "code",
   "execution_count": null,
   "metadata": {
    "ExecuteTime": {
     "end_time": "2022-12-08T10:18:54.983887Z",
     "start_time": "2022-12-08T10:18:54.974268Z"
    }
   },
   "outputs": [],
   "source": [
    "df"
   ]
  },
  {
   "cell_type": "code",
   "execution_count": null,
   "metadata": {
    "ExecuteTime": {
     "end_time": "2022-12-08T10:20:05.378019Z",
     "start_time": "2022-12-08T10:20:05.129723Z"
    }
   },
   "outputs": [],
   "source": [
    "plt.figure(figsize = (8,6))\n",
    "sns.kdeplot(data=df, x = 'pred', hue= 'real', fill = True)\n",
    "#plt.xlim([0,1])\n",
    "plt.legend(labels = ['M', 'NM'],loc = 'upper left')\n",
    "#matching : 1, non-matching : 0"
   ]
  },
  {
   "cell_type": "code",
   "execution_count": null,
   "metadata": {
    "ExecuteTime": {
     "end_time": "2022-12-08T10:19:11.932553Z",
     "start_time": "2022-12-08T10:19:11.345140Z"
    }
   },
   "outputs": [],
   "source": [
    "plt.figure(figsize = (8,6))\n",
    "sns.displot(data=df, x = 'pred', hue= 'real', fill = True)\n",
    "plt.legend(labels = ['M', 'NM'],loc = 'upper right')\n",
    "#matching : 1, non-matching : 0"
   ]
  },
  {
   "cell_type": "code",
   "execution_count": null,
   "metadata": {
    "ExecuteTime": {
     "end_time": "2022-12-08T10:19:16.925058Z",
     "start_time": "2022-12-08T10:19:16.919841Z"
    }
   },
   "outputs": [],
   "source": [
    "print(y_pred_test.ravel().min())\n",
    "print(y_pred_test.ravel().max())"
   ]
  },
  {
   "cell_type": "code",
   "execution_count": null,
   "metadata": {
    "ExecuteTime": {
     "end_time": "2022-12-08T10:19:37.145286Z",
     "start_time": "2022-12-08T10:19:37.136323Z"
    }
   },
   "outputs": [],
   "source": [
    "df_1_o = pd.DataFrame(y_test, columns=['real'])\n",
    "df_2_o = pd.DataFrame(y_pred_test_o.ravel(), columns=['pred'])\n",
    "df_o = pd.concat([df_1_o, df_2_o], axis=1)"
   ]
  },
  {
   "cell_type": "code",
   "execution_count": null,
   "metadata": {
    "ExecuteTime": {
     "end_time": "2022-12-08T10:19:42.012192Z",
     "start_time": "2022-12-08T10:19:42.004180Z"
    }
   },
   "outputs": [],
   "source": [
    "df_o"
   ]
  },
  {
   "cell_type": "code",
   "execution_count": null,
   "metadata": {
    "ExecuteTime": {
     "end_time": "2022-12-08T10:19:47.015225Z",
     "start_time": "2022-12-08T10:19:46.780218Z"
    }
   },
   "outputs": [],
   "source": [
    "plt.figure(figsize = (8,6))\n",
    "sns.kdeplot(data=df_o, x = 'pred', hue= 'real', fill = True)\n",
    "plt.legend(labels = ['M', 'NM'],loc = 'upper right')\n",
    "#matching : 1, non-matching : 0"
   ]
  },
  {
   "cell_type": "code",
   "execution_count": null,
   "metadata": {
    "ExecuteTime": {
     "end_time": "2022-12-08T10:20:12.926507Z",
     "start_time": "2022-12-08T10:20:12.919959Z"
    }
   },
   "outputs": [],
   "source": [
    "print(y_pred_test_o.ravel().min())\n",
    "print(y_pred_test_o.ravel().max())"
   ]
  },
  {
   "cell_type": "code",
   "execution_count": null,
   "metadata": {
    "ExecuteTime": {
     "end_time": "2022-12-08T10:20:17.907803Z",
     "start_time": "2022-12-08T10:20:17.902139Z"
    }
   },
   "outputs": [],
   "source": [
    "index = [i for i, x in enumerate(y_test!=(y_pred_test.ravel()>0.5)) if x]\n",
    "len(index)"
   ]
  },
  {
   "cell_type": "code",
   "execution_count": null,
   "metadata": {
    "ExecuteTime": {
     "end_time": "2022-12-08T10:20:22.529974Z",
     "start_time": "2022-12-08T10:20:22.525155Z"
    },
    "scrolled": true
   },
   "outputs": [],
   "source": [
    "[i for i, x in enumerate(y_test!=(y_pred_test.ravel()>0.5)) if x]"
   ]
  },
  {
   "cell_type": "code",
   "execution_count": null,
   "metadata": {
    "ExecuteTime": {
     "end_time": "2022-12-08T10:20:39.487341Z",
     "start_time": "2022-12-08T10:20:39.479079Z"
    }
   },
   "outputs": [],
   "source": [
    "index_o = [i for i, x in enumerate(y_test!=(y_pred_test_o.ravel()>0.5)) if x]\n",
    "len(index_o)"
   ]
  },
  {
   "cell_type": "code",
   "execution_count": null,
   "metadata": {
    "ExecuteTime": {
     "end_time": "2022-12-08T10:21:24.677355Z",
     "start_time": "2022-12-08T10:20:56.673522Z"
    }
   },
   "outputs": [],
   "source": [
    "predictions = model_final.predict([ts_t_a,ts_b_a, ts_t_b,ts_b_b])"
   ]
  },
  {
   "cell_type": "code",
   "execution_count": null,
   "metadata": {
    "ExecuteTime": {
     "end_time": "2022-12-08T10:22:15.435488Z",
     "start_time": "2022-12-08T10:22:15.105750Z"
    }
   },
   "outputs": [],
   "source": [
    "visualize(x_test, y_test, to_show=4, predictions=predictions, test=True, num_col=4)"
   ]
  },
  {
   "cell_type": "code",
   "execution_count": null,
   "metadata": {
    "ExecuteTime": {
     "end_time": "2022-12-08T10:22:50.551208Z",
     "start_time": "2022-12-08T10:22:20.100081Z"
    },
    "scrolled": false
   },
   "outputs": [],
   "source": [
    "predictions_o =siamese.predict([x_test_1, x_test_2])"
   ]
  },
  {
   "cell_type": "code",
   "execution_count": null,
   "metadata": {
    "ExecuteTime": {
     "end_time": "2022-12-08T10:23:13.537134Z",
     "start_time": "2022-12-08T10:23:13.209148Z"
    }
   },
   "outputs": [],
   "source": [
    "visualize(x_test, y_test, to_show=4, predictions=predictions_o, test=True, num_col=4)"
   ]
  },
  {
   "cell_type": "code",
   "execution_count": null,
   "metadata": {
    "ExecuteTime": {
     "end_time": "2022-12-08T10:23:25.380980Z",
     "start_time": "2022-12-08T10:23:24.767832Z"
    }
   },
   "outputs": [],
   "source": [
    "visualize(x_test[index], y_test[index], to_show=6, predictions=predictions[index], test=True, num_col=3)"
   ]
  },
  {
   "cell_type": "code",
   "execution_count": null,
   "metadata": {
    "ExecuteTime": {
     "end_time": "2022-12-08T10:23:36.871451Z",
     "start_time": "2022-12-08T10:23:36.149536Z"
    },
    "scrolled": false
   },
   "outputs": [],
   "source": [
    "visualize(x_test[index_o], y_test[index_o], to_show=6, predictions=predictions_o[index_o], test=True)"
   ]
  },
  {
   "cell_type": "code",
   "execution_count": null,
   "metadata": {},
   "outputs": [],
   "source": []
  }
 ],
 "metadata": {
  "hide_input": false,
  "kernelspec": {
   "display_name": "Python 3",
   "language": "python",
   "name": "python3"
  },
  "language_info": {
   "codemirror_mode": {
    "name": "ipython",
    "version": 3
   },
   "file_extension": ".py",
   "mimetype": "text/x-python",
   "name": "python",
   "nbconvert_exporter": "python",
   "pygments_lexer": "ipython3",
   "version": "3.6.9"
  },
  "toc": {
   "base_numbering": 1,
   "nav_menu": {},
   "number_sections": true,
   "sideBar": true,
   "skip_h1_title": false,
   "title_cell": "Table of Contents",
   "title_sidebar": "Contents",
   "toc_cell": false,
   "toc_position": {
    "height": "calc(100% - 180px)",
    "left": "10px",
    "top": "150px",
    "width": "384px"
   },
   "toc_section_display": true,
   "toc_window_display": false
  },
  "varInspector": {
   "cols": {
    "lenName": 16,
    "lenType": 16,
    "lenVar": 40
   },
   "kernels_config": {
    "python": {
     "delete_cmd_postfix": "",
     "delete_cmd_prefix": "del ",
     "library": "var_list.py",
     "varRefreshCmd": "print(var_dic_list())"
    },
    "r": {
     "delete_cmd_postfix": ") ",
     "delete_cmd_prefix": "rm(",
     "library": "var_list.r",
     "varRefreshCmd": "cat(var_dic_list()) "
    }
   },
   "types_to_exclude": [
    "module",
    "function",
    "builtin_function_or_method",
    "instance",
    "_Feature"
   ],
   "window_display": false
  }
 },
 "nbformat": 4,
 "nbformat_minor": 4
}
